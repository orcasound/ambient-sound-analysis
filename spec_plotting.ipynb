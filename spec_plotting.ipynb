{
 "cells": [
  {
   "cell_type": "code",
   "execution_count": 2,
   "metadata": {},
   "outputs": [
    {
     "ename": "ImportError",
     "evalue": "dlopen(/Users/grantsavage/.local/share/virtualenvs/capstone-51pnZIVg/lib/python3.9/site-packages/skimage/_shared/geometry.cpython-39-darwin.so, 0x0002): tried: '/Users/grantsavage/.local/share/virtualenvs/capstone-51pnZIVg/lib/python3.9/site-packages/skimage/_shared/geometry.cpython-39-darwin.so' (mach-o file, but is an incompatible architecture (have 'arm64', need 'x86_64')), '/System/Volumes/Preboot/Cryptexes/OS/Users/grantsavage/.local/share/virtualenvs/capstone-51pnZIVg/lib/python3.9/site-packages/skimage/_shared/geometry.cpython-39-darwin.so' (no such file), '/Users/grantsavage/.local/share/virtualenvs/capstone-51pnZIVg/lib/python3.9/site-packages/skimage/_shared/geometry.cpython-39-darwin.so' (mach-o file, but is an incompatible architecture (have 'arm64', need 'x86_64'))\nIt seems that scikit-image has not been built correctly.\n\nYour install of scikit-image appears to be broken.\nTry re-installing the package following the instructions at:\nhttps://scikit-image.org/docs/stable/install.html ",
     "output_type": "error",
     "traceback": [
      "\u001B[0;31m---------------------------------------------------------------------------\u001B[0m",
      "\u001B[0;31mImportError\u001B[0m                               Traceback (most recent call last)",
      "File \u001B[0;32m~/.local/share/virtualenvs/capstone-51pnZIVg/lib/python3.9/site-packages/skimage/__init__.py:151\u001B[0m\n\u001B[1;32m    150\u001B[0m \u001B[38;5;28;01mtry\u001B[39;00m:\n\u001B[0;32m--> 151\u001B[0m     \u001B[38;5;28;01mfrom\u001B[39;00m \u001B[38;5;21;01m.\u001B[39;00m\u001B[38;5;21;01m_shared\u001B[39;00m \u001B[38;5;28;01mimport\u001B[39;00m geometry\n\u001B[1;32m    152\u001B[0m     \u001B[38;5;28;01mdel\u001B[39;00m geometry\n",
      "\u001B[0;31mImportError\u001B[0m: dlopen(/Users/grantsavage/.local/share/virtualenvs/capstone-51pnZIVg/lib/python3.9/site-packages/skimage/_shared/geometry.cpython-39-darwin.so, 0x0002): tried: '/Users/grantsavage/.local/share/virtualenvs/capstone-51pnZIVg/lib/python3.9/site-packages/skimage/_shared/geometry.cpython-39-darwin.so' (mach-o file, but is an incompatible architecture (have 'arm64', need 'x86_64')), '/System/Volumes/Preboot/Cryptexes/OS/Users/grantsavage/.local/share/virtualenvs/capstone-51pnZIVg/lib/python3.9/site-packages/skimage/_shared/geometry.cpython-39-darwin.so' (no such file), '/Users/grantsavage/.local/share/virtualenvs/capstone-51pnZIVg/lib/python3.9/site-packages/skimage/_shared/geometry.cpython-39-darwin.so' (mach-o file, but is an incompatible architecture (have 'arm64', need 'x86_64'))",
      "\nDuring handling of the above exception, another exception occurred:\n",
      "\u001B[0;31mImportError\u001B[0m                               Traceback (most recent call last)",
      "Cell \u001B[0;32mIn[2], line 2\u001B[0m\n\u001B[1;32m      1\u001B[0m \u001B[38;5;28;01mimport\u001B[39;00m \u001B[38;5;21;01mlibrosa\u001B[39;00m\n\u001B[0;32m----> 2\u001B[0m \u001B[38;5;28;01mfrom\u001B[39;00m \u001B[38;5;21;01msrc\u001B[39;00m \u001B[38;5;28;01mimport\u001B[39;00m acoustic_util\n\u001B[1;32m      3\u001B[0m \u001B[38;5;28;01mimport\u001B[39;00m \u001B[38;5;21;01mpandas\u001B[39;00m \u001B[38;5;28;01mas\u001B[39;00m \u001B[38;5;21;01mpd\u001B[39;00m\n\u001B[1;32m      4\u001B[0m \u001B[38;5;28;01mimport\u001B[39;00m \u001B[38;5;21;01mnumpy\u001B[39;00m \u001B[38;5;28;01mas\u001B[39;00m \u001B[38;5;21;01mnp\u001B[39;00m\n",
      "File \u001B[0;32m~/Code/capstone/ambient-sound-analysis/src/acoustic_util.py:8\u001B[0m\n\u001B[1;32m      6\u001B[0m \u001B[38;5;28;01mimport\u001B[39;00m \u001B[38;5;21;01mmatplotlib\u001B[39;00m\u001B[38;5;21;01m.\u001B[39;00m\u001B[38;5;21;01mpyplot\u001B[39;00m \u001B[38;5;28;01mas\u001B[39;00m \u001B[38;5;21;01mplt\u001B[39;00m\n\u001B[1;32m      7\u001B[0m \u001B[38;5;28;01mimport\u001B[39;00m \u001B[38;5;21;01mmatplotlib\u001B[39;00m\u001B[38;5;21;01m.\u001B[39;00m\u001B[38;5;21;01mdates\u001B[39;00m \u001B[38;5;28;01mas\u001B[39;00m \u001B[38;5;21;01mmdates\u001B[39;00m\n\u001B[0;32m----> 8\u001B[0m \u001B[38;5;28;01mfrom\u001B[39;00m \u001B[38;5;21;01mskimage\u001B[39;00m\u001B[38;5;21;01m.\u001B[39;00m\u001B[38;5;21;01mrestoration\u001B[39;00m \u001B[38;5;28;01mimport\u001B[39;00m denoise_wavelet\n\u001B[1;32m      9\u001B[0m \u001B[38;5;28;01mimport\u001B[39;00m \u001B[38;5;21;01mnumpy\u001B[39;00m \u001B[38;5;28;01mas\u001B[39;00m \u001B[38;5;21;01mnp\u001B[39;00m\n\u001B[1;32m     10\u001B[0m \u001B[38;5;28;01mimport\u001B[39;00m \u001B[38;5;21;01mpandas\u001B[39;00m \u001B[38;5;28;01mas\u001B[39;00m \u001B[38;5;21;01mpd\u001B[39;00m\n",
      "File \u001B[0;32m~/.local/share/virtualenvs/capstone-51pnZIVg/lib/python3.9/site-packages/skimage/__init__.py:154\u001B[0m\n\u001B[1;32m    152\u001B[0m     \u001B[38;5;28;01mdel\u001B[39;00m geometry\n\u001B[1;32m    153\u001B[0m \u001B[38;5;28;01mexcept\u001B[39;00m \u001B[38;5;167;01mImportError\u001B[39;00m \u001B[38;5;28;01mas\u001B[39;00m e:\n\u001B[0;32m--> 154\u001B[0m     \u001B[43m_raise_build_error\u001B[49m\u001B[43m(\u001B[49m\u001B[43me\u001B[49m\u001B[43m)\u001B[49m\n\u001B[1;32m    156\u001B[0m \u001B[38;5;66;03m# All skimage root imports go here\u001B[39;00m\n\u001B[1;32m    157\u001B[0m \u001B[38;5;28;01mfrom\u001B[39;00m \u001B[38;5;21;01m.\u001B[39;00m\u001B[38;5;21;01mutil\u001B[39;00m\u001B[38;5;21;01m.\u001B[39;00m\u001B[38;5;21;01mdtype\u001B[39;00m \u001B[38;5;28;01mimport\u001B[39;00m (img_as_float32,\n\u001B[1;32m    158\u001B[0m                          img_as_float64,\n\u001B[1;32m    159\u001B[0m                          img_as_float,\n\u001B[0;32m   (...)\u001B[0m\n\u001B[1;32m    163\u001B[0m                          img_as_bool,\n\u001B[1;32m    164\u001B[0m                          dtype_limits)\n",
      "File \u001B[0;32m~/.local/share/virtualenvs/capstone-51pnZIVg/lib/python3.9/site-packages/skimage/__init__.py:131\u001B[0m, in \u001B[0;36m_raise_build_error\u001B[0;34m(e)\u001B[0m\n\u001B[1;32m    127\u001B[0m     \u001B[38;5;28;01mif\u001B[39;00m local_dir \u001B[38;5;241m==\u001B[39m \u001B[38;5;124m\"\u001B[39m\u001B[38;5;124mskimage\u001B[39m\u001B[38;5;124m\"\u001B[39m:\n\u001B[1;32m    128\u001B[0m         \u001B[38;5;66;03m# Picking up the local install: this will work only if the\u001B[39;00m\n\u001B[1;32m    129\u001B[0m         \u001B[38;5;66;03m# install is an 'inplace build'\u001B[39;00m\n\u001B[1;32m    130\u001B[0m         msg \u001B[38;5;241m=\u001B[39m _INPLACE_MSG\n\u001B[0;32m--> 131\u001B[0m     \u001B[38;5;28;01mraise\u001B[39;00m \u001B[38;5;167;01mImportError\u001B[39;00m(\u001B[38;5;124m\"\"\"\u001B[39m\u001B[38;5;132;01m%s\u001B[39;00m\n\u001B[1;32m    132\u001B[0m \u001B[38;5;124mIt seems that scikit-image has not been built correctly.\u001B[39m\n\u001B[1;32m    133\u001B[0m \u001B[38;5;132;01m%s\u001B[39;00m\u001B[38;5;124m\"\"\"\u001B[39m \u001B[38;5;241m%\u001B[39m (e, msg))\n",
      "\u001B[0;31mImportError\u001B[0m: dlopen(/Users/grantsavage/.local/share/virtualenvs/capstone-51pnZIVg/lib/python3.9/site-packages/skimage/_shared/geometry.cpython-39-darwin.so, 0x0002): tried: '/Users/grantsavage/.local/share/virtualenvs/capstone-51pnZIVg/lib/python3.9/site-packages/skimage/_shared/geometry.cpython-39-darwin.so' (mach-o file, but is an incompatible architecture (have 'arm64', need 'x86_64')), '/System/Volumes/Preboot/Cryptexes/OS/Users/grantsavage/.local/share/virtualenvs/capstone-51pnZIVg/lib/python3.9/site-packages/skimage/_shared/geometry.cpython-39-darwin.so' (no such file), '/Users/grantsavage/.local/share/virtualenvs/capstone-51pnZIVg/lib/python3.9/site-packages/skimage/_shared/geometry.cpython-39-darwin.so' (mach-o file, but is an incompatible architecture (have 'arm64', need 'x86_64'))\nIt seems that scikit-image has not been built correctly.\n\nYour install of scikit-image appears to be broken.\nTry re-installing the package following the instructions at:\nhttps://scikit-image.org/docs/stable/install.html "
     ]
    }
   ],
   "source": [
    "import librosa\n",
    "from src import acoustic_util\n",
    "import pandas as pd\n",
    "import numpy as np\n",
    "import datetime\n",
    "import matplotlib.pyplot as plt\n",
    "import matplotlib.dates as mdates\n",
    "import scipy.signal\n",
    "from orca_hls_utils.DateRangeHLSStream import DateRangeHLSStream\n",
    "import time\n",
    "import os"
   ]
  },
  {
   "cell_type": "code",
   "execution_count": 2,
   "metadata": {},
   "outputs": [
    {
     "ename": "ImportError",
     "evalue": "dlopen(/Users/grantsavage/.local/share/virtualenvs/capstone-51pnZIVg/lib/python3.9/site-packages/pandas/_libs/interval.cpython-39-darwin.so, 0x0002): tried: '/Users/grantsavage/.local/share/virtualenvs/capstone-51pnZIVg/lib/python3.9/site-packages/pandas/_libs/interval.cpython-39-darwin.so' (mach-o file, but is an incompatible architecture (have 'arm64', need 'x86_64')), '/System/Volumes/Preboot/Cryptexes/OS/Users/grantsavage/.local/share/virtualenvs/capstone-51pnZIVg/lib/python3.9/site-packages/pandas/_libs/interval.cpython-39-darwin.so' (no such file), '/Users/grantsavage/.local/share/virtualenvs/capstone-51pnZIVg/lib/python3.9/site-packages/pandas/_libs/interval.cpython-39-darwin.so' (mach-o file, but is an incompatible architecture (have 'arm64', need 'x86_64'))",
     "output_type": "error",
     "traceback": [
      "\u001B[0;31m---------------------------------------------------------------------------\u001B[0m",
      "\u001B[0;31mImportError\u001B[0m                               Traceback (most recent call last)",
      "Cell \u001B[0;32mIn[2], line 1\u001B[0m\n\u001B[0;32m----> 1\u001B[0m \u001B[38;5;28;01mfrom\u001B[39;00m \u001B[38;5;21;01msrc\u001B[39;00m \u001B[38;5;28;01mimport\u001B[39;00m pipeline\n\u001B[1;32m      2\u001B[0m \u001B[38;5;28;01mfrom\u001B[39;00m \u001B[38;5;21;01msrc\u001B[39;00m \u001B[38;5;28;01mimport\u001B[39;00m hydrophone\n",
      "File \u001B[0;32m~/Code/capstone/ambient-sound-analysis/src/pipeline.py:9\u001B[0m\n\u001B[1;32m      7\u001B[0m \u001B[38;5;66;03m# Third part imports\u001B[39;00m\n\u001B[1;32m      8\u001B[0m \u001B[38;5;28;01mimport\u001B[39;00m \u001B[38;5;21;01mnumpy\u001B[39;00m \u001B[38;5;28;01mas\u001B[39;00m \u001B[38;5;21;01mnp\u001B[39;00m\n\u001B[0;32m----> 9\u001B[0m \u001B[38;5;28;01mimport\u001B[39;00m \u001B[38;5;21;01mpandas\u001B[39;00m \u001B[38;5;28;01mas\u001B[39;00m \u001B[38;5;21;01mpd\u001B[39;00m\n\u001B[1;32m     10\u001B[0m \u001B[38;5;28;01mfrom\u001B[39;00m \u001B[38;5;21;01mscipy\u001B[39;00m \u001B[38;5;28;01mimport\u001B[39;00m signal\n\u001B[1;32m     11\u001B[0m \u001B[38;5;28;01mfrom\u001B[39;00m \u001B[38;5;21;01mscipy\u001B[39;00m\u001B[38;5;21;01m.\u001B[39;00m\u001B[38;5;21;01mio\u001B[39;00m \u001B[38;5;28;01mimport\u001B[39;00m wavfile\n",
      "File \u001B[0;32m~/.local/share/virtualenvs/capstone-51pnZIVg/lib/python3.9/site-packages/pandas/__init__.py:22\u001B[0m\n\u001B[1;32m     19\u001B[0m \u001B[38;5;28;01mdel\u001B[39;00m _hard_dependencies, _dependency, _missing_dependencies\n\u001B[1;32m     21\u001B[0m \u001B[38;5;66;03m# numpy compat\u001B[39;00m\n\u001B[0;32m---> 22\u001B[0m \u001B[38;5;28;01mfrom\u001B[39;00m \u001B[38;5;21;01mpandas\u001B[39;00m\u001B[38;5;21;01m.\u001B[39;00m\u001B[38;5;21;01mcompat\u001B[39;00m \u001B[38;5;28;01mimport\u001B[39;00m is_numpy_dev \u001B[38;5;28;01mas\u001B[39;00m _is_numpy_dev  \u001B[38;5;66;03m# pyright: ignore # noqa:F401\u001B[39;00m\n\u001B[1;32m     24\u001B[0m \u001B[38;5;28;01mtry\u001B[39;00m:\n\u001B[1;32m     25\u001B[0m     \u001B[38;5;28;01mfrom\u001B[39;00m \u001B[38;5;21;01mpandas\u001B[39;00m\u001B[38;5;21;01m.\u001B[39;00m\u001B[38;5;21;01m_libs\u001B[39;00m \u001B[38;5;28;01mimport\u001B[39;00m hashtable \u001B[38;5;28;01mas\u001B[39;00m _hashtable, lib \u001B[38;5;28;01mas\u001B[39;00m _lib, tslib \u001B[38;5;28;01mas\u001B[39;00m _tslib\n",
      "File \u001B[0;32m~/.local/share/virtualenvs/capstone-51pnZIVg/lib/python3.9/site-packages/pandas/compat/__init__.py:18\u001B[0m\n\u001B[1;32m     15\u001B[0m \u001B[38;5;28;01mfrom\u001B[39;00m \u001B[38;5;21;01mtyping\u001B[39;00m \u001B[38;5;28;01mimport\u001B[39;00m TYPE_CHECKING\n\u001B[1;32m     17\u001B[0m \u001B[38;5;28;01mfrom\u001B[39;00m \u001B[38;5;21;01mpandas\u001B[39;00m\u001B[38;5;21;01m.\u001B[39;00m\u001B[38;5;21;01m_typing\u001B[39;00m \u001B[38;5;28;01mimport\u001B[39;00m F\n\u001B[0;32m---> 18\u001B[0m \u001B[38;5;28;01mfrom\u001B[39;00m \u001B[38;5;21;01mpandas\u001B[39;00m\u001B[38;5;21;01m.\u001B[39;00m\u001B[38;5;21;01mcompat\u001B[39;00m\u001B[38;5;21;01m.\u001B[39;00m\u001B[38;5;21;01mnumpy\u001B[39;00m \u001B[38;5;28;01mimport\u001B[39;00m (\n\u001B[1;32m     19\u001B[0m     is_numpy_dev,\n\u001B[1;32m     20\u001B[0m     np_version_under1p21,\n\u001B[1;32m     21\u001B[0m )\n\u001B[1;32m     22\u001B[0m \u001B[38;5;28;01mfrom\u001B[39;00m \u001B[38;5;21;01mpandas\u001B[39;00m\u001B[38;5;21;01m.\u001B[39;00m\u001B[38;5;21;01mcompat\u001B[39;00m\u001B[38;5;21;01m.\u001B[39;00m\u001B[38;5;21;01mpyarrow\u001B[39;00m \u001B[38;5;28;01mimport\u001B[39;00m (\n\u001B[1;32m     23\u001B[0m     pa_version_under1p01,\n\u001B[1;32m     24\u001B[0m     pa_version_under2p0,\n\u001B[0;32m   (...)\u001B[0m\n\u001B[1;32m     31\u001B[0m     pa_version_under9p0,\n\u001B[1;32m     32\u001B[0m )\n\u001B[1;32m     34\u001B[0m \u001B[38;5;28;01mif\u001B[39;00m TYPE_CHECKING:\n",
      "File \u001B[0;32m~/.local/share/virtualenvs/capstone-51pnZIVg/lib/python3.9/site-packages/pandas/compat/numpy/__init__.py:4\u001B[0m\n\u001B[1;32m      1\u001B[0m \u001B[38;5;124;03m\"\"\" support numpy compatibility across versions \"\"\"\u001B[39;00m\n\u001B[1;32m      2\u001B[0m \u001B[38;5;28;01mimport\u001B[39;00m \u001B[38;5;21;01mnumpy\u001B[39;00m \u001B[38;5;28;01mas\u001B[39;00m \u001B[38;5;21;01mnp\u001B[39;00m\n\u001B[0;32m----> 4\u001B[0m \u001B[38;5;28;01mfrom\u001B[39;00m \u001B[38;5;21;01mpandas\u001B[39;00m\u001B[38;5;21;01m.\u001B[39;00m\u001B[38;5;21;01mutil\u001B[39;00m\u001B[38;5;21;01m.\u001B[39;00m\u001B[38;5;21;01mversion\u001B[39;00m \u001B[38;5;28;01mimport\u001B[39;00m Version\n\u001B[1;32m      6\u001B[0m \u001B[38;5;66;03m# numpy versioning\u001B[39;00m\n\u001B[1;32m      7\u001B[0m _np_version \u001B[38;5;241m=\u001B[39m np\u001B[38;5;241m.\u001B[39m__version__\n",
      "File \u001B[0;32m~/.local/share/virtualenvs/capstone-51pnZIVg/lib/python3.9/site-packages/pandas/util/__init__.py:2\u001B[0m\n\u001B[1;32m      1\u001B[0m \u001B[38;5;66;03m# pyright: reportUnusedImport = false\u001B[39;00m\n\u001B[0;32m----> 2\u001B[0m \u001B[38;5;28;01mfrom\u001B[39;00m \u001B[38;5;21;01mpandas\u001B[39;00m\u001B[38;5;21;01m.\u001B[39;00m\u001B[38;5;21;01mutil\u001B[39;00m\u001B[38;5;21;01m.\u001B[39;00m\u001B[38;5;21;01m_decorators\u001B[39;00m \u001B[38;5;28;01mimport\u001B[39;00m (  \u001B[38;5;66;03m# noqa:F401\u001B[39;00m\n\u001B[1;32m      3\u001B[0m     Appender,\n\u001B[1;32m      4\u001B[0m     Substitution,\n\u001B[1;32m      5\u001B[0m     cache_readonly,\n\u001B[1;32m      6\u001B[0m )\n\u001B[1;32m      8\u001B[0m \u001B[38;5;28;01mfrom\u001B[39;00m \u001B[38;5;21;01mpandas\u001B[39;00m\u001B[38;5;21;01m.\u001B[39;00m\u001B[38;5;21;01mcore\u001B[39;00m\u001B[38;5;21;01m.\u001B[39;00m\u001B[38;5;21;01mutil\u001B[39;00m\u001B[38;5;21;01m.\u001B[39;00m\u001B[38;5;21;01mhashing\u001B[39;00m \u001B[38;5;28;01mimport\u001B[39;00m (  \u001B[38;5;66;03m# noqa:F401\u001B[39;00m\n\u001B[1;32m      9\u001B[0m     hash_array,\n\u001B[1;32m     10\u001B[0m     hash_pandas_object,\n\u001B[1;32m     11\u001B[0m )\n\u001B[1;32m     14\u001B[0m \u001B[38;5;28;01mdef\u001B[39;00m \u001B[38;5;21m__getattr__\u001B[39m(name):\n",
      "File \u001B[0;32m~/.local/share/virtualenvs/capstone-51pnZIVg/lib/python3.9/site-packages/pandas/util/_decorators.py:14\u001B[0m\n\u001B[1;32m      6\u001B[0m \u001B[38;5;28;01mfrom\u001B[39;00m \u001B[38;5;21;01mtyping\u001B[39;00m \u001B[38;5;28;01mimport\u001B[39;00m (\n\u001B[1;32m      7\u001B[0m     Any,\n\u001B[1;32m      8\u001B[0m     Callable,\n\u001B[1;32m      9\u001B[0m     Mapping,\n\u001B[1;32m     10\u001B[0m     cast,\n\u001B[1;32m     11\u001B[0m )\n\u001B[1;32m     12\u001B[0m \u001B[38;5;28;01mimport\u001B[39;00m \u001B[38;5;21;01mwarnings\u001B[39;00m\n\u001B[0;32m---> 14\u001B[0m \u001B[38;5;28;01mfrom\u001B[39;00m \u001B[38;5;21;01mpandas\u001B[39;00m\u001B[38;5;21;01m.\u001B[39;00m\u001B[38;5;21;01m_libs\u001B[39;00m\u001B[38;5;21;01m.\u001B[39;00m\u001B[38;5;21;01mproperties\u001B[39;00m \u001B[38;5;28;01mimport\u001B[39;00m cache_readonly\n\u001B[1;32m     15\u001B[0m \u001B[38;5;28;01mfrom\u001B[39;00m \u001B[38;5;21;01mpandas\u001B[39;00m\u001B[38;5;21;01m.\u001B[39;00m\u001B[38;5;21;01m_typing\u001B[39;00m \u001B[38;5;28;01mimport\u001B[39;00m (\n\u001B[1;32m     16\u001B[0m     F,\n\u001B[1;32m     17\u001B[0m     T,\n\u001B[1;32m     18\u001B[0m )\n\u001B[1;32m     19\u001B[0m \u001B[38;5;28;01mfrom\u001B[39;00m \u001B[38;5;21;01mpandas\u001B[39;00m\u001B[38;5;21;01m.\u001B[39;00m\u001B[38;5;21;01mutil\u001B[39;00m\u001B[38;5;21;01m.\u001B[39;00m\u001B[38;5;21;01m_exceptions\u001B[39;00m \u001B[38;5;28;01mimport\u001B[39;00m find_stack_level\n",
      "File \u001B[0;32m~/.local/share/virtualenvs/capstone-51pnZIVg/lib/python3.9/site-packages/pandas/_libs/__init__.py:13\u001B[0m\n\u001B[1;32m      1\u001B[0m __all__ \u001B[38;5;241m=\u001B[39m [\n\u001B[1;32m      2\u001B[0m     \u001B[38;5;124m\"\u001B[39m\u001B[38;5;124mNaT\u001B[39m\u001B[38;5;124m\"\u001B[39m,\n\u001B[1;32m      3\u001B[0m     \u001B[38;5;124m\"\u001B[39m\u001B[38;5;124mNaTType\u001B[39m\u001B[38;5;124m\"\u001B[39m,\n\u001B[0;32m   (...)\u001B[0m\n\u001B[1;32m      9\u001B[0m     \u001B[38;5;124m\"\u001B[39m\u001B[38;5;124mInterval\u001B[39m\u001B[38;5;124m\"\u001B[39m,\n\u001B[1;32m     10\u001B[0m ]\n\u001B[0;32m---> 13\u001B[0m \u001B[38;5;28;01mfrom\u001B[39;00m \u001B[38;5;21;01mpandas\u001B[39;00m\u001B[38;5;21;01m.\u001B[39;00m\u001B[38;5;21;01m_libs\u001B[39;00m\u001B[38;5;21;01m.\u001B[39;00m\u001B[38;5;21;01minterval\u001B[39;00m \u001B[38;5;28;01mimport\u001B[39;00m Interval\n\u001B[1;32m     14\u001B[0m \u001B[38;5;28;01mfrom\u001B[39;00m \u001B[38;5;21;01mpandas\u001B[39;00m\u001B[38;5;21;01m.\u001B[39;00m\u001B[38;5;21;01m_libs\u001B[39;00m\u001B[38;5;21;01m.\u001B[39;00m\u001B[38;5;21;01mtslibs\u001B[39;00m \u001B[38;5;28;01mimport\u001B[39;00m (\n\u001B[1;32m     15\u001B[0m     NaT,\n\u001B[1;32m     16\u001B[0m     NaTType,\n\u001B[0;32m   (...)\u001B[0m\n\u001B[1;32m     21\u001B[0m     iNaT,\n\u001B[1;32m     22\u001B[0m )\n",
      "\u001B[0;31mImportError\u001B[0m: dlopen(/Users/grantsavage/.local/share/virtualenvs/capstone-51pnZIVg/lib/python3.9/site-packages/pandas/_libs/interval.cpython-39-darwin.so, 0x0002): tried: '/Users/grantsavage/.local/share/virtualenvs/capstone-51pnZIVg/lib/python3.9/site-packages/pandas/_libs/interval.cpython-39-darwin.so' (mach-o file, but is an incompatible architecture (have 'arm64', need 'x86_64')), '/System/Volumes/Preboot/Cryptexes/OS/Users/grantsavage/.local/share/virtualenvs/capstone-51pnZIVg/lib/python3.9/site-packages/pandas/_libs/interval.cpython-39-darwin.so' (no such file), '/Users/grantsavage/.local/share/virtualenvs/capstone-51pnZIVg/lib/python3.9/site-packages/pandas/_libs/interval.cpython-39-darwin.so' (mach-o file, but is an incompatible architecture (have 'arm64', need 'x86_64'))"
     ]
    }
   ],
   "source": [
    "from src import pipeline\n",
    "from src import hydrophone"
   ]
  },
  {
   "cell_type": "code",
   "execution_count": null,
   "metadata": {},
   "outputs": [],
   "source": []
  },
  {
   "cell_type": "code",
   "execution_count": null,
   "metadata": {},
   "outputs": [],
   "source": [
    "def plot_noise(testdf, name, output_path=None, save = False):\n",
    "    fig, ax = plt.subplots()\n",
    "    spec = ax.pcolormesh(testdf.index,testdf.columns,testdf.values.transpose())\n",
    "    ax.set_yscale('log')\n",
    "    ax.set_ylim((50, 20000))\n",
    "    fig.autofmt_xdate(rotation=45)\n",
    "    fig.gca().xaxis.set_major_formatter(mdates.DateFormatter('%H:%M:%S'))\n",
    "    #fig.gca().xaxis.set_major_locator(mdates.SecondLocater())\n",
    "    fig.colorbar(spec,ax=ax, label=\"dB relative to ancient ambient\")\n",
    "    fig.set_size_inches(10, 10)\n",
    "    plt.title(name)\n",
    "    if save:\n",
    "        fig.savefig(output_path,\n",
    "                    dpi=80,\n",
    "                    bbox_inches=\"tight\",\n",
    "                    pad_inches=0.0)\n",
    "        \n",
    "        fig.canvas.draw()\n",
    "        fig.canvas.flush_events()\n",
    "        plt.close(fig)\n",
    "    \n",
    "    return fig"
   ]
  },
  {
   "cell_type": "code",
   "execution_count": null,
   "metadata": {},
   "outputs": [],
   "source": [
    "orcasound_lab = hydrophone.Hydrophone.ORCASOUND_LAB\n",
    "ship = pipeline.NoiseAnalysisPipeline(orcasound_lab, delta_f=10, delta_t=1, bands=3)"
   ]
  },
  {
   "cell_type": "code",
   "execution_count": null,
   "metadata": {},
   "outputs": [],
   "source": [
    "start_time = datetime.datetime(2023,2,10,22,00,00)\n",
    "end_time = datetime.datetime(2023,2,10,23,00,00)\n",
    "\n",
    "ship_noise_psd, ship_noise_broad = ship.generate_psds(start=start_time, end=end_time)"
   ]
  },
  {
   "cell_type": "code",
   "execution_count": null,
   "metadata": {},
   "outputs": [],
   "source": [
    "aa = acoustic_util.ancient_ambient(ship_noise_broad)"
   ]
  },
  {
   "cell_type": "code",
   "execution_count": null,
   "metadata": {},
   "outputs": [],
   "source": [
    "time_steps = ['0.1', '0.5', '1', '10']\n",
    "oct_steps = [1, 3, 6, 12, 24]\n",
    "start_time = datetime.datetime(2023,2,10,22,00,00)\n",
    "end_time = datetime.datetime(2023,2,10,23,00,00)\n",
    "\n",
    "for time in range(len(time_steps)):\n",
    "    for oct in range(len(oct_steps)):\n",
    "        ship = pipeline.NoiseAnalysisPipeline(orcasound_lab, delta_f=10, delta_t=float(time_steps[time]), bands=int(oct_steps[oct]))\n",
    "        f_name = str(time_steps[time])+'s_'+str(oct_steps[oct])+'oct'\n",
    "        out_df, out_rms = ship.generate_psds(start=start_time, end=end_time, ref=aa)\n",
    "        plot_noise(out_df, f_name, 'filepath{}.png'.format(f_name), save=True)\n",
    "        out_df.columns = out_df.columns.map(str)\n",
    "        out_df.to_parquet('filepath{}.parquet.gzip'.format(f_name))"
   ]
  },
  {
   "cell_type": "code",
   "execution_count": null,
   "metadata": {},
   "outputs": [],
   "source": [
    "names = ['0.1s_1oct', '0.1s_3oct', '0.1s_6oct', '0.1s_12oct', '0.1s_24oct',\n",
    "         '0.5s_1oct', '0.5s_3oct', '0.5s_6oct', '0.5s_12oct', '0.5s_24oct',\n",
    "         '1s_1oct', '1s_3oct', '1s_6oct', '1s_12oct', '1s_24oct',\n",
    "         '10s_1oct', '10s_3oct', '10s_6oct', '10s_12oct', '10s_24oct']\n",
    "images = [plt.imread('filepath'+name+'.png') for name in names]\n",
    "\n",
    "fig, axes = plt.subplots(4, 5)\n",
    "\n",
    "i=0\n",
    "for row in [0, 1, 2, 3]:\n",
    "    for column in [0, 1, 2, 3, 4]:\n",
    "        ax = axes[row, column]\n",
    "        ax.set_title(names[i])\n",
    "        ax.axis('off')\n",
    "        ax.imshow(images[i])\n",
    "        i = i + 1\n",
    "\n",
    "fig.set_size_inches(10, 10)\n",
    "plt.show()\n",
    "fig.savefig('filepath/all.png',\n",
    "            dpi=80,\n",
    "            bbox_inches=\"tight\",\n",
    "            pad_inches=0.0)"
   ]
  }
 ],
 "metadata": {
  "kernelspec": {
   "display_name": "Python 3.9 Capstone",
   "language": "python",
   "name": "capstone"
  },
  "language_info": {
   "codemirror_mode": {
    "name": "ipython",
    "version": 3
   },
   "file_extension": ".py",
   "mimetype": "text/x-python",
   "name": "python",
   "nbconvert_exporter": "python",
   "pygments_lexer": "ipython3",
   "version": "3.9.6"
  },
  "vscode": {
   "interpreter": {
    "hash": "aee8b7b246df8f9039afb4144a1f6fd8d2ca17a180786b69acc140d282b71a49"
   }
  }
 },
 "nbformat": 4,
 "nbformat_minor": 2
}